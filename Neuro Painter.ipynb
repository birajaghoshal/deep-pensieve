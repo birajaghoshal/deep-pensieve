{
 "cells": [
  {
   "cell_type": "markdown",
   "metadata": {},
   "source": [
    "# Neuro Painter™"
   ]
  },
  {
   "cell_type": "markdown",
   "metadata": {},
   "source": [
    "A deep, dense, and dumb neural network that learns to paint by pixel."
   ]
  },
  {
   "cell_type": "markdown",
   "metadata": {},
   "source": [
    "## Imports"
   ]
  },
  {
   "cell_type": "code",
   "execution_count": null,
   "metadata": {},
   "outputs": [],
   "source": [
    "import os\n",
    "import time\n",
    "import json\n",
    "import random\n",
    "import numpy as np\n",
    "import tensorflow as tf\n",
    "\n",
    "from libs import utils, gif\n",
    "from libs.group_norm import GroupNormalization\n",
    "\n",
    "from keras.models import Model, load_model, model_from_json\n",
    "from keras.layers import Input, Flatten, Reshape, Add, Multiply, Activation, Lambda\n",
    "from keras.layers import Dense, Conv2D, MaxPooling2D, UpSampling2D, BatchNormalization\n",
    "from keras.objectives import mean_squared_error, mean_absolute_error\n",
    "from keras.callbacks import ModelCheckpoint, LambdaCallback\n",
    "\n",
    "from keras import optimizers\n",
    "from keras import backend as K"
   ]
  },
  {
   "cell_type": "markdown",
   "metadata": {},
   "source": [
    "## Load Image"
   ]
  },
  {
   "cell_type": "code",
   "execution_count": null,
   "metadata": {},
   "outputs": [],
   "source": [
    "DIRECTORY = 'roadtrip'\n",
    "IMAGE = \"52.jpg\"\n",
    "SIZE = 256\n",
    "OUTPUT_SIZE = 256\n",
    "CHANNELS = 3\n",
    "\n",
    "FILENAME = DIRECTORY + '/' + IMAGE\n",
    "FEATURES = SIZE*SIZE*CHANNELS\n",
    "MODEL_NAME = DIRECTORY + '-' + os.path.splitext(IMAGE)[0] +'-'+str(SIZE)\n",
    "\n",
    "print(MODEL_NAME)"
   ]
  },
  {
   "cell_type": "code",
   "execution_count": null,
   "metadata": {},
   "outputs": [],
   "source": [
    "XS, YS, IMG = utils.load_image(FILENAME, SIZE, SIZE)\n",
    "\n",
    "print(\"xs: \", XS.shape)\n",
    "print(\"ys: \", YS.shape)\n",
    "print(\"img: \", IMG.shape)"
   ]
  },
  {
   "cell_type": "markdown",
   "metadata": {},
   "source": [
    "## Callbacks "
   ]
  },
  {
   "cell_type": "code",
   "execution_count": null,
   "metadata": {},
   "outputs": [],
   "source": [
    "GIF_STEPS = 10\n",
    "\n",
    "def gifit(epoch=None):\n",
    "    if(epoch < 100):\n",
    "        GIF_STEPS = 1\n",
    "    elif(epoch < 1000):\n",
    "        GIF_STEPS = 10\n",
    "    else:\n",
    "        GIF_STEPS = 100\n",
    "        \n",
    "    if (epoch % GIF_STEPS == 0):\n",
    "        print('saving gif ...')\n",
    "        PREDICTION = NEUROPAINTER.predict_on_batch(XS)\n",
    "        RECONS.append(np.clip(PREDICTION.reshape((OUTPUT_SIZE, OUTPUT_SIZE, 3)), 0, 1))\n",
    "        \n",
    "        \n",
    "def saveit(epoch=None):\n",
    "    if (epoch == 0):\n",
    "        print('saving model ...')\n",
    "        with open(MODEL_NAME+'-model.json', 'w') as f:\n",
    "            json.dump(NEUROPAINTER.to_json(), f, ensure_ascii=False)\n",
    "            \n",
    "    if (epoch % MODEL_STEPS == 0):\n",
    "        print('saving weights ...')\n",
    "        NEUROPAINTER.save_weights(MODEL_NAME+'-weights.h5')"
   ]
  },
  {
   "cell_type": "markdown",
   "metadata": {},
   "source": [
    "## Training "
   ]
  },
  {
   "cell_type": "code",
   "execution_count": null,
   "metadata": {},
   "outputs": [],
   "source": [
    "N_NEURONS = 128\n",
    "N_LAYERS  = 32\n",
    "\n",
    "INITIALIZER = 'he_normal'\n",
    "ACTIVATION  = 'elu'\n",
    "\n",
    "EPOCHS = 20000\n",
    "BATCH_SIZE = 1024"
   ]
  },
  {
   "cell_type": "code",
   "execution_count": null,
   "metadata": {
    "scrolled": false
   },
   "outputs": [],
   "source": [
    "RECONS = []\n",
    "\n",
    "# input\n",
    "X = Input(shape=(2,))\n",
    "\n",
    "# set the current layer\n",
    "current_layer = X\n",
    "\n",
    "# build hidden layers\n",
    "for i in range(N_LAYERS):\n",
    "    current_layer = Dense(N_NEURONS,activation=ACTIVATION,kernel_initializer=INITIALIZER)(current_layer)\n",
    "    \n",
    "# output\n",
    "Y_PRED = Dense(3,activation=None,kernel_initializer=INITIALIZER)(current_layer)\n",
    "\n",
    "# define model\n",
    "NEUROPAINTER = Model(inputs=[X], outputs=[Y_PRED])\n",
    "\n",
    "# define optimizer\n",
    "ADAM = optimizers.Adam(lr=0.001, beta_1=0.9, beta_2=0.999, epsilon=1e-8, decay=0.0, amsgrad=True)\n",
    "\n",
    "# compile model\n",
    "NEUROPAINTER.compile(optimizer=ADAM,loss='mean_squared_error')\n",
    "\n",
    "# print summary\n",
    "NEUROPAINTER.summary()\n",
    "\n",
    "# callbacks\n",
    "giffer = LambdaCallback(on_epoch_end=lambda epoch, logs: gifit(epoch))\n",
    "saver = LambdaCallback(on_epoch_end=lambda epoch, logs: saveit(epoch))\n",
    "\n",
    "# fit model\n",
    "NEUROPAINTER.fit(x=XS,y=YS,batch_size=BATCH_SIZE,epochs=EPOCHS,shuffle=True,callbacks=[giffer,saver],verbose=1)\n",
    "\n",
    "# training gif\n",
    "gif.build_gif(RECONS, show_gif=False)"
   ]
  }
 ],
 "metadata": {
  "kernelspec": {
   "display_name": "Python 3",
   "language": "python",
   "name": "python3"
  },
  "language_info": {
   "codemirror_mode": {
    "name": "ipython",
    "version": 3
   },
   "file_extension": ".py",
   "mimetype": "text/x-python",
   "name": "python",
   "nbconvert_exporter": "python",
   "pygments_lexer": "ipython3",
   "version": "3.6.4"
  }
 },
 "nbformat": 4,
 "nbformat_minor": 2
}
